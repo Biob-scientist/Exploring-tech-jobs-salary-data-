{
 "cells": [
  {
   "cell_type": "markdown",
   "id": "6172adf4-44c5-4270-9cd3-65ed13aea14f",
   "metadata": {},
   "source": [
    "# Introduction\n",
    "***"
   ]
  },
  {
   "cell_type": "code",
   "execution_count": 16,
   "id": "031981b8-b5c6-48b9-818d-bcf46bc767aa",
   "metadata": {},
   "outputs": [],
   "source": [
    "import pandas as pd\n",
    "import numpy as np\n",
    "import seaborn as sns\n",
    "import matplotlib.pyplot as plt\n",
    "import requests\n",
    "import os"
   ]
  },
  {
   "cell_type": "markdown",
   "id": "c39fb950-df23-4f3a-8649-703253e44da4",
   "metadata": {},
   "source": [
    "# Data Gathering"
   ]
  },
  {
   "cell_type": "code",
   "execution_count": 2,
   "id": "474cf259-ab47-458f-b74f-c8c8fc3aa203",
   "metadata": {},
   "outputs": [],
   "source": [
    "salary_df=pd.read_csv(\"Salary_Dataset_with_Extra_Features.csv\")"
   ]
  },
  {
   "cell_type": "code",
   "execution_count": 3,
   "id": "66f27a4b-35e2-4eb4-9455-0fe450bf3f24",
   "metadata": {},
   "outputs": [
    {
     "name": "stdout",
     "output_type": "stream",
     "text": [
      "<class 'pandas.core.frame.DataFrame'>\n",
      "RangeIndex: 22770 entries, 0 to 22769\n",
      "Data columns (total 8 columns):\n",
      " #   Column             Non-Null Count  Dtype  \n",
      "---  ------             --------------  -----  \n",
      " 0   Rating             22770 non-null  float64\n",
      " 1   Company Name       22770 non-null  object \n",
      " 2   Job Title          22770 non-null  object \n",
      " 3   Salary             22770 non-null  int64  \n",
      " 4   Salaries Reported  22770 non-null  int64  \n",
      " 5   Location           22770 non-null  object \n",
      " 6   Employment Status  22770 non-null  object \n",
      " 7   Job Roles          22770 non-null  object \n",
      "dtypes: float64(1), int64(2), object(5)\n",
      "memory usage: 1.4+ MB\n"
     ]
    }
   ],
   "source": [
    "salary_df.info()"
   ]
  },
  {
   "cell_type": "markdown",
   "id": "712e8b02-29fe-4e40-aafd-2a04387555fc",
   "metadata": {},
   "source": [
    "#### Notable Observation\n",
    "- There are 22,770 rows and 8 columns\n",
    "- Rename column titles to snake_case\n",
    "- No empty cells at all\n",
    "- Salary is integer rather than float\n",
    "- Other variables are in the right format\n",
    "- Minor data cleaning is needed\n"
   ]
  },
  {
   "cell_type": "markdown",
   "id": "22f1fce7-0bda-4101-b382-666cce1c7c5a",
   "metadata": {},
   "source": [
    "# Data Cleaning"
   ]
  },
  {
   "cell_type": "code",
   "execution_count": 4,
   "id": "5538c8d8-caea-465a-8bbd-9d82a427f102",
   "metadata": {},
   "outputs": [
    {
     "data": {
      "text/plain": [
       "['rating',\n",
       " 'company name',\n",
       " 'job title',\n",
       " 'salary',\n",
       " 'salaries reported',\n",
       " 'location',\n",
       " 'employment status',\n",
       " 'job roles']"
      ]
     },
     "execution_count": 4,
     "metadata": {},
     "output_type": "execute_result"
    }
   ],
   "source": [
    "salary_df.columns.str.lower().to_list()"
   ]
  },
  {
   "cell_type": "code",
   "execution_count": 5,
   "id": "403646bb-f3aa-4c70-9239-14743e8e2ae1",
   "metadata": {},
   "outputs": [],
   "source": [
    "header=['rating', 'company_name','job title','salary','salaries_reported','location','employment_status','job_roles']\n",
    "salary_df.iloc[0:]=salary_df\n",
    "salary_df.columns=header"
   ]
  },
  {
   "cell_type": "code",
   "execution_count": 6,
   "id": "0b8f362f-064f-4c2c-ac00-a4b576d3276b",
   "metadata": {},
   "outputs": [
    {
     "data": {
      "text/html": [
       "<div>\n",
       "<style scoped>\n",
       "    .dataframe tbody tr th:only-of-type {\n",
       "        vertical-align: middle;\n",
       "    }\n",
       "\n",
       "    .dataframe tbody tr th {\n",
       "        vertical-align: top;\n",
       "    }\n",
       "\n",
       "    .dataframe thead th {\n",
       "        text-align: right;\n",
       "    }\n",
       "</style>\n",
       "<table border=\"1\" class=\"dataframe\">\n",
       "  <thead>\n",
       "    <tr style=\"text-align: right;\">\n",
       "      <th></th>\n",
       "      <th>rating</th>\n",
       "      <th>company_name</th>\n",
       "      <th>job title</th>\n",
       "      <th>salary</th>\n",
       "      <th>salaries_reported</th>\n",
       "      <th>location</th>\n",
       "      <th>employment_status</th>\n",
       "      <th>job_roles</th>\n",
       "    </tr>\n",
       "  </thead>\n",
       "  <tbody>\n",
       "    <tr>\n",
       "      <th>0</th>\n",
       "      <td>3.8</td>\n",
       "      <td>Sasken</td>\n",
       "      <td>Android Developer</td>\n",
       "      <td>400000</td>\n",
       "      <td>3</td>\n",
       "      <td>Bangalore</td>\n",
       "      <td>Full Time</td>\n",
       "      <td>Android</td>\n",
       "    </tr>\n",
       "    <tr>\n",
       "      <th>1</th>\n",
       "      <td>4.5</td>\n",
       "      <td>Advanced Millennium Technologies</td>\n",
       "      <td>Android Developer</td>\n",
       "      <td>400000</td>\n",
       "      <td>3</td>\n",
       "      <td>Bangalore</td>\n",
       "      <td>Full Time</td>\n",
       "      <td>Android</td>\n",
       "    </tr>\n",
       "    <tr>\n",
       "      <th>2</th>\n",
       "      <td>4.0</td>\n",
       "      <td>Unacademy</td>\n",
       "      <td>Android Developer</td>\n",
       "      <td>1000000</td>\n",
       "      <td>3</td>\n",
       "      <td>Bangalore</td>\n",
       "      <td>Full Time</td>\n",
       "      <td>Android</td>\n",
       "    </tr>\n",
       "    <tr>\n",
       "      <th>3</th>\n",
       "      <td>3.8</td>\n",
       "      <td>SnapBizz Cloudtech</td>\n",
       "      <td>Android Developer</td>\n",
       "      <td>300000</td>\n",
       "      <td>3</td>\n",
       "      <td>Bangalore</td>\n",
       "      <td>Full Time</td>\n",
       "      <td>Android</td>\n",
       "    </tr>\n",
       "    <tr>\n",
       "      <th>4</th>\n",
       "      <td>4.4</td>\n",
       "      <td>Appoids Tech Solutions</td>\n",
       "      <td>Android Developer</td>\n",
       "      <td>600000</td>\n",
       "      <td>3</td>\n",
       "      <td>Bangalore</td>\n",
       "      <td>Full Time</td>\n",
       "      <td>Android</td>\n",
       "    </tr>\n",
       "  </tbody>\n",
       "</table>\n",
       "</div>"
      ],
      "text/plain": [
       "   rating                      company_name          job title   salary  \\\n",
       "0     3.8                            Sasken  Android Developer   400000   \n",
       "1     4.5  Advanced Millennium Technologies  Android Developer   400000   \n",
       "2     4.0                         Unacademy  Android Developer  1000000   \n",
       "3     3.8                SnapBizz Cloudtech  Android Developer   300000   \n",
       "4     4.4            Appoids Tech Solutions  Android Developer   600000   \n",
       "\n",
       "   salaries_reported   location employment_status job_roles  \n",
       "0                  3  Bangalore         Full Time   Android  \n",
       "1                  3  Bangalore         Full Time   Android  \n",
       "2                  3  Bangalore         Full Time   Android  \n",
       "3                  3  Bangalore         Full Time   Android  \n",
       "4                  3  Bangalore         Full Time   Android  "
      ]
     },
     "execution_count": 6,
     "metadata": {},
     "output_type": "execute_result"
    }
   ],
   "source": [
    "salary_df.head()"
   ]
  },
  {
   "cell_type": "markdown",
   "id": "2fe1ee5c-6e74-4f12-aa82-1afd9e3168fe",
   "metadata": {},
   "source": [
    "#### Convert salary to float"
   ]
  },
  {
   "cell_type": "code",
   "execution_count": 7,
   "id": "cc9131ab-f6b2-4b10-a860-409589c6e2b7",
   "metadata": {},
   "outputs": [],
   "source": [
    "salary_df['salary']=salary_df[\"salary\"].astype(float)"
   ]
  },
  {
   "cell_type": "code",
   "execution_count": 8,
   "id": "4b92a67d-6155-4d12-89fe-f314c522b20f",
   "metadata": {},
   "outputs": [
    {
     "name": "stdout",
     "output_type": "stream",
     "text": [
      "<class 'pandas.core.frame.DataFrame'>\n",
      "RangeIndex: 22770 entries, 0 to 22769\n",
      "Data columns (total 8 columns):\n",
      " #   Column             Non-Null Count  Dtype  \n",
      "---  ------             --------------  -----  \n",
      " 0   rating             22770 non-null  float64\n",
      " 1   company_name       22770 non-null  object \n",
      " 2   job title          22770 non-null  object \n",
      " 3   salary             22770 non-null  float64\n",
      " 4   salaries_reported  22770 non-null  int64  \n",
      " 5   location           22770 non-null  object \n",
      " 6   employment_status  22770 non-null  object \n",
      " 7   job_roles          22770 non-null  object \n",
      "dtypes: float64(2), int64(1), object(5)\n",
      "memory usage: 1.4+ MB\n"
     ]
    }
   ],
   "source": [
    "salary_df.info()"
   ]
  },
  {
   "cell_type": "markdown",
   "id": "b1473de1-627c-460b-8a6f-efe6dc0cbc61",
   "metadata": {},
   "source": [
    "# Data Analysis- Exploratory\n",
    "***"
   ]
  },
  {
   "cell_type": "code",
   "execution_count": 9,
   "id": "33e21ef1-372e-4fca-b37a-295793d2601d",
   "metadata": {},
   "outputs": [],
   "source": [
    "df=salary_df.copy()"
   ]
  },
  {
   "cell_type": "code",
   "execution_count": 13,
   "id": "a9650699-0902-42b3-946f-0333641888e6",
   "metadata": {},
   "outputs": [
    {
     "data": {
      "text/plain": [
       "<seaborn.axisgrid.FacetGrid at 0x2dd325f46d0>"
      ]
     },
     "execution_count": 13,
     "metadata": {},
     "output_type": "execute_result"
    },
    {
     "data": {
      "image/png": "[encoded data removed]",
      "text/plain": [
       "<Figure size 360x360 with 1 Axes>"
      ]
     },
     "metadata": {
      "needs_background": "light"
     },
     "output_type": "display_data"
    }
   ],
   "source": [
    "sns.displot(data=df,x=\"salary\")"
   ]
  },
  {
   "cell_type": "code",
   "execution_count": null,
   "id": "8e9529af-f626-4785-948f-3c9cf6c974db",
   "metadata": {},
   "outputs": [],
   "source": []
  },
  {
   "cell_type": "code",
   "execution_count": null,
   "id": "68db63b7-7478-46b0-b0c4-be558267866e",
   "metadata": {},
   "outputs": [],
   "source": [
    "plt.hist(data=df,x=\"salary\",bins=600000);"
   ]
  },
  {
   "cell_type": "code",
   "execution_count": null,
   "id": "e7dba444-bc72-464d-92c5-63bc4f55105c",
   "metadata": {},
   "outputs": [],
   "source": []
  }
 ],
 "metadata": {
  "kernelspec": {
   "display_name": "Python 3 (ipykernel)",
   "language": "python",
   "name": "python3"
  },
  "language_info": {
   "codemirror_mode": {
    "name": "ipython",
    "version": 3
   },
   "file_extension": ".py",
   "mimetype": "text/x-python",
   "name": "python",
   "nbconvert_exporter": "python",
   "pygments_lexer": "ipython3",
   "version": "3.9.12"
  }
 },
 "nbformat": 4,
 "nbformat_minor": 5
}
